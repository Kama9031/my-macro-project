{
  "nbformat": 4,
  "nbformat_minor": 0,
  "metadata": {
    "colab": {
      "provenance": [],
      "authorship_tag": "ABX9TyOk9SPXVduYXGQcgGqkABq9",
      "include_colab_link": true
    },
    "kernelspec": {
      "name": "python3",
      "display_name": "Python 3"
    },
    "language_info": {
      "name": "python"
    }
  },
  "cells": [
    {
      "cell_type": "markdown",
      "metadata": {
        "id": "view-in-github",
        "colab_type": "text"
      },
      "source": [
        "<a href=\"https://colab.research.google.com/github/Kama9031/my-macro-project/blob/main/%E3%83%87%E3%83%BC%E3%82%BF%E3%81%AE%E5%8F%96%E5%BE%97.ipynb\" target=\"_parent\"><img src=\"https://colab.research.google.com/assets/colab-badge.svg\" alt=\"Open In Colab\"/></a>"
      ]
    },
    {
      "cell_type": "code",
      "execution_count": 1,
      "metadata": {
        "id": "41wnB0DVSS5U"
      },
      "outputs": [],
      "source": [
        "import numpy as np\n",
        "import pandas as pd\n",
        "import matplotlib.pyplot as plt\n",
        "from statsmodels.tsa.filters.hp_filter import hpfilter\n",
        "from pandas_datareader import data as pdr\n",
        "import datetime\n",
        "\n",
        "start = datetime.datetime(1990, 1, 1)\n",
        "end = datetime.datetime(2019, 12, 31)\n",
        "\n",
        "gr_gdp = pdr.DataReader('CLVMNACSCAB1GQEL', 'fred', start, end)\n",
        "jpn_gdp = pdr.DataReader('JPNRGDPEXP', 'fred', start, end)"
      ]
    }
  ]
}